{
 "cells": [
  {
   "cell_type": "markdown",
   "id": "17269f75",
   "metadata": {},
   "source": [
    "###  agrXdatec\n",
    "\n",
    "**AGR**onomic E**X**periments **DA**ta **TE**mplate **C**reator is a set of functions written in python that allow you to create custom templates to collect data for most of the typical agronomic experiments. It also can be used as template to load a \"field\" in the [Field Book app](https://www.phenoapps.org/apps/). "
   ]
  },
  {
   "cell_type": "markdown",
   "id": "97ee476f",
   "metadata": {},
   "source": [
    "#### 1. Load the base template that contains the basic information of your experiment"
   ]
  },
  {
   "cell_type": "markdown",
   "id": "95f0d4d1",
   "metadata": {},
   "source": [
    "#### 2. Enter your experiment information in the config.yml file"
   ]
  },
  {
   "cell_type": "markdown",
   "id": "39317ea7",
   "metadata": {},
   "source": [
    "#### 3. Load libraries"
   ]
  },
  {
   "cell_type": "code",
   "execution_count": 6,
   "id": "45e1e336",
   "metadata": {},
   "outputs": [],
   "source": [
    "import os\n",
    "\n",
    "# import functions file\n",
    "import sys\n",
    "file = 'functions.py'\n",
    "sys.path.insert(0,os.path.dirname(os.path.abspath(file)))\n",
    "import functions"
   ]
  },
  {
   "cell_type": "markdown",
   "id": "b272d818",
   "metadata": {},
   "source": [
    "#### 4. Create the new template"
   ]
  },
  {
   "cell_type": "code",
   "execution_count": 8,
   "id": "e2671862",
   "metadata": {},
   "outputs": [],
   "source": [
    "functions.create_new_template('config.yml', 'TEMPLATE_INPUT', 'COLUMNS_TEMPLATE', 'NEW_COLUMNS', \n",
    "                    'SAMPLES_PER_PLOT', 'SAMPLE_IDENTIFIER', 'TEMPLATE_OUTPUT')"
   ]
  }
 ],
 "metadata": {
  "kernelspec": {
   "display_name": "Python 3 (ipykernel)",
   "language": "python",
   "name": "python3"
  },
  "language_info": {
   "codemirror_mode": {
    "name": "ipython",
    "version": 3
   },
   "file_extension": ".py",
   "mimetype": "text/x-python",
   "name": "python",
   "nbconvert_exporter": "python",
   "pygments_lexer": "ipython3",
   "version": "3.8.12"
  }
 },
 "nbformat": 4,
 "nbformat_minor": 5
}
